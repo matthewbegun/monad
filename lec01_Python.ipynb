{
  "nbformat": 4,
  "nbformat_minor": 0,
  "metadata": {
    "colab": {
      "private_outputs": true,
      "provenance": [],
      "authorship_tag": "ABX9TyNzSa7qXwoIS6c7zRBnXqod",
      "include_colab_link": true
    },
    "kernelspec": {
      "name": "python3",
      "display_name": "Python 3"
    },
    "language_info": {
      "name": "python"
    }
  },
  "cells": [
    {
      "cell_type": "markdown",
      "metadata": {
        "id": "view-in-github",
        "colab_type": "text"
      },
      "source": [
        "<a href=\"https://colab.research.google.com/github/matthewbegun/monad/blob/master/lec01_Python.ipynb\" target=\"_parent\"><img src=\"https://colab.research.google.com/assets/colab-badge.svg\" alt=\"Open In Colab\"/></a>"
      ]
    },
    {
      "cell_type": "markdown",
      "source": [
        "# MXN500 Lecture 1 (Python)\n",
        "This notebook is the python version of the lecture material from week 1, including live coding from the lecture (scribbles).\n",
        "\n",
        "Packages required for this lecture:\n",
        "- the `airquality` dataset is in `statsmodels`\n",
        "- the `pandas` package provides dataframes and many other features of the `tidyverse` library\n"
      ],
      "metadata": {
        "id": "Spig0OdZ7x04"
      }
    },
    {
      "cell_type": "code",
      "source": [
        "# in python we can install packages with pip or conda\n",
        "!pip install statsmodels\n"
      ],
      "metadata": {
        "id": "PGyMxcrvCJa-"
      },
      "execution_count": null,
      "outputs": []
    },
    {
      "cell_type": "markdown",
      "source": [
        "## Summary Statistics\n",
        "Consider the following data for air quality in New York in 1973, available in R as \"airquality\".\n",
        "\n",
        "We can get some of the R data sets from the `statsmodels` package.\n"
      ],
      "metadata": {
        "id": "D4lcoWwlBoEX"
      }
    },
    {
      "cell_type": "code",
      "source": [
        "# in python we can import whole libraries...\n",
        "import statsmodels.api as sm\n",
        "import pandas as pd\n",
        "\n",
        "# ... or specific objects from a library\n",
        "from plotnine import ggplot, aes, geom_point"
      ],
      "metadata": {
        "id": "sTg27z_t82Eb"
      },
      "execution_count": null,
      "outputs": []
    },
    {
      "cell_type": "code",
      "source": [
        "# Create your own names by \"assigning\" variables using \"=\".\n",
        "aq = sm.datasets.get_rdataset(\"airquality\").data"
      ],
      "metadata": {
        "id": "hF3dvQvD9ufS"
      },
      "execution_count": null,
      "outputs": []
    },
    {
      "cell_type": "code",
      "source": [
        "# in notebooks and iPython we can use ? for help like in R\n",
        "?aq"
      ],
      "metadata": {
        "id": "rTTOu6IyDNIF"
      },
      "execution_count": null,
      "outputs": []
    },
    {
      "cell_type": "code",
      "source": [
        "# we can look at the head of the dataframe...\n",
        "aq.head()"
      ],
      "metadata": {
        "id": "ZDznAdzQ9xoO"
      },
      "execution_count": null,
      "outputs": []
    },
    {
      "cell_type": "code",
      "source": [
        "# ...and the tail\n",
        "aq.tail()"
      ],
      "metadata": {
        "id": "4F1B-GOh-L-g"
      },
      "execution_count": null,
      "outputs": []
    },
    {
      "cell_type": "code",
      "source": [
        "# To \"View\" a dataframe, hit the table button after the output.\n",
        "# You can sort and filter from there.\n",
        "# This only works in notebooks, so you should use them!\n",
        "aq"
      ],
      "metadata": {
        "id": "TVoxdA72-QxN"
      },
      "execution_count": null,
      "outputs": []
    },
    {
      "cell_type": "code",
      "source": [
        "# How can I look at row 5? What about just the Ozone column?\n",
        "# In pandas we can use the `.iloc` method to get rows or columns by number\n",
        "# REMEMBER! Python counts from 0!\n",
        "aq.iloc[4] # row 5\n"
      ],
      "metadata": {
        "id": "ZNafiNxS_bKL"
      },
      "execution_count": null,
      "outputs": []
    },
    {
      "cell_type": "code",
      "source": [
        "# for columns we can\n",
        "aq.iloc[:,0] # the first column is number 0!"
      ],
      "metadata": {
        "id": "Y0Xt84w7E0QS"
      },
      "execution_count": null,
      "outputs": []
    },
    {
      "cell_type": "code",
      "source": [
        "# we can slice by index\n",
        "aq.iloc[:,0:3]"
      ],
      "metadata": {
        "id": "HKe7x9YYGYfG"
      },
      "execution_count": null,
      "outputs": []
    },
    {
      "cell_type": "code",
      "source": [
        "# dataframes can also be sliced by rows\n",
        "aq[0:5]"
      ],
      "metadata": {
        "id": "T1SKtiFS-jvg"
      },
      "execution_count": null,
      "outputs": []
    },
    {
      "cell_type": "code",
      "source": [
        "# we can use labels instead of numbers with `.loc`\n",
        "aq.loc[:, 'Ozone':'Wind']"
      ],
      "metadata": {
        "id": "O7GypRXDGJr7"
      },
      "execution_count": null,
      "outputs": []
    },
    {
      "cell_type": "code",
      "source": [
        "# if we pass just one label we get a column\n",
        "aq['Ozone']\n"
      ],
      "metadata": {
        "id": "LV4OS3mQFV6G"
      },
      "execution_count": null,
      "outputs": []
    },
    {
      "cell_type": "code",
      "source": [
        "# we can get the dimensions (shape) using\n",
        "aq.shape"
      ],
      "metadata": {
        "id": "Fzxx0jhpCjBM"
      },
      "execution_count": null,
      "outputs": []
    },
    {
      "cell_type": "code",
      "source": [
        "# first element of shape is rows\n",
        "aq.shape[0]"
      ],
      "metadata": {
        "id": "trJkmIGMCvPc"
      },
      "execution_count": null,
      "outputs": []
    },
    {
      "cell_type": "code",
      "source": [
        "# second element of shape is columns\n",
        "aq.shape[1]"
      ],
      "metadata": {
        "id": "Vs8_lZG4DRLM"
      },
      "execution_count": null,
      "outputs": []
    },
    {
      "cell_type": "code",
      "source": [
        "# the last row of my dataframe is\n",
        "aq.iloc[aq.shape[0]-1] # this is different from R, because python starts counting at 0!"
      ],
      "metadata": {
        "id": "J4lVcmUeIPDn"
      },
      "execution_count": null,
      "outputs": []
    },
    {
      "cell_type": "code",
      "source": [
        "# in python we can count from the end by using negatives, much easier\n",
        "aq.iloc[-1]"
      ],
      "metadata": {
        "id": "A8m1BBuPI9ux"
      },
      "execution_count": null,
      "outputs": []
    },
    {
      "cell_type": "code",
      "source": [
        "# in python we don't have str, we have `info()` and `dtypes` for pandas objects and `repr()' for everything else...\n",
        "aq.dtypes"
      ],
      "metadata": {
        "id": "OCZnCmSMDS51"
      },
      "execution_count": null,
      "outputs": []
    },
    {
      "cell_type": "code",
      "source": [
        "# `info()` includes more information\n",
        "aq.info()"
      ],
      "metadata": {
        "id": "18zeESS1ETVD"
      },
      "execution_count": null,
      "outputs": []
    },
    {
      "cell_type": "code",
      "source": [
        "# to filter by month we use boolean equals `==`(two equal signs)\n",
        "aq_may = aq[aq['Month']==5] # inside the brakets identifies the rows we want, outside the brackets we are selecting them\n",
        "aq_may.info()"
      ],
      "metadata": {
        "id": "m-igGp-rFCTI"
      },
      "execution_count": null,
      "outputs": []
    },
    {
      "cell_type": "code",
      "source": [
        "# count the occurance of each value for Ozone - in python the default is to remove NA...\n",
        "aq_may['Ozone'].value_counts()"
      ],
      "metadata": {
        "id": "G4aTeFv2FdX5"
      },
      "execution_count": null,
      "outputs": []
    },
    {
      "cell_type": "code",
      "source": [
        "# ...this time include NA - for this one we use dropna (defaults to true)\n",
        "aq_may['Ozone'].value_counts(dropna=False)\n",
        "# pandas uses \"Not a Number\" (NaN)"
      ],
      "metadata": {
        "id": "DSdQshPEKnrT"
      },
      "execution_count": null,
      "outputs": []
    },
    {
      "cell_type": "code",
      "source": [
        "# we can find the mean...\n",
        "aq_may['Ozone'].mean()"
      ],
      "metadata": {
        "id": "zr3mOFzEHlnx"
      },
      "execution_count": null,
      "outputs": []
    },
    {
      "cell_type": "code",
      "source": [
        "# ... and the median as well\n",
        "aq['Ozone'].median()"
      ],
      "metadata": {
        "id": "NLsZbppPIFi0"
      },
      "execution_count": null,
      "outputs": []
    },
    {
      "cell_type": "code",
      "source": [
        "# if you want errors on missing data use skipna=False\n",
        "aq['Ozone'].mean(skipna=False)\n"
      ],
      "metadata": {
        "id": "QTEXM3FIH8Oa"
      },
      "execution_count": null,
      "outputs": []
    },
    {
      "cell_type": "code",
      "source": [
        "# pandas comes with summaries for dataframes\n",
        "aq_may.describe()"
      ],
      "metadata": {
        "id": "L9wNdZbGMZ8u"
      },
      "execution_count": null,
      "outputs": []
    },
    {
      "cell_type": "code",
      "source": [
        "# just one column...\n",
        "aq_may['Ozone'].describe()"
      ],
      "metadata": {
        "id": "4o7-iu_UMavA"
      },
      "execution_count": null,
      "outputs": []
    },
    {
      "cell_type": "code",
      "source": [
        "# we can also do custom summaries with the agg function\n",
        "# \"agg is an alias for aggregate. Use the alias.\" <-- from pandas docs\n",
        "aq_may.agg(['mean', 'median'])"
      ],
      "metadata": {
        "id": "y5eftzDwLUiv"
      },
      "execution_count": null,
      "outputs": []
    },
    {
      "cell_type": "code",
      "source": [
        "# we can make custom summaries as in R\n",
        "aq_may.agg(ozone_mean=('Ozone','mean'),\n",
        "           ozone_median=('Ozone','median'),\n",
        "           wind_mean=('Wind','mean'))"
      ],
      "metadata": {
        "id": "eBzdlpUxNtKG"
      },
      "execution_count": null,
      "outputs": []
    },
    {
      "cell_type": "code",
      "source": [
        "# ...or using a using a dict(ionary)\n",
        "aq_may.agg({'Ozone': ['mean', 'median'],\n",
        "            'Wind': ['mean', 'nunique']})"
      ],
      "metadata": {
        "id": "rmM0_pKlMdcy"
      },
      "execution_count": null,
      "outputs": []
    },
    {
      "cell_type": "code",
      "source": [
        "# To calculate summaries for each month, you could do each seperately e.g.\n",
        "aq_june = aq[aq['Month']==6]\n",
        "aq_june['Ozone'].mean()\n",
        "# for each month..."
      ],
      "metadata": {
        "id": "WJh8IXjAMsov"
      },
      "execution_count": null,
      "outputs": []
    },
    {
      "cell_type": "code",
      "source": [
        "# but we can use group_by instead\n",
        "aq.groupby('Month')['Ozone'].describe()"
      ],
      "metadata": {
        "id": "36aAC0lwNuCN"
      },
      "execution_count": null,
      "outputs": []
    },
    {
      "cell_type": "code",
      "source": [
        "# or using mean ...\n",
        "aq.groupby('Month')['Ozone'].mean()"
      ],
      "metadata": {
        "id": "OII55-4jOBZD"
      },
      "execution_count": null,
      "outputs": []
    },
    {
      "cell_type": "code",
      "source": [
        "# ... and median\n",
        "aq.groupby('Month')['Ozone'].median()\n"
      ],
      "metadata": {
        "id": "rwkq3VHHOk6C"
      },
      "execution_count": null,
      "outputs": []
    },
    {
      "cell_type": "code",
      "source": [
        "# we can use agg on groups as well\n",
        "aq.groupby('Month').agg(ozone_mean=('Ozone','mean'),\n",
        "                        ozone_median=('Ozone','median'),\n",
        "                        wind_mean=('Wind','mean'))"
      ],
      "metadata": {
        "id": "WcfBlBJ6PDNQ"
      },
      "execution_count": null,
      "outputs": []
    },
    {
      "cell_type": "markdown",
      "source": [
        "## Data Wrangling\n"
      ],
      "metadata": {
        "id": "LOTDRSu2PUXu"
      }
    },
    {
      "cell_type": "code",
      "source": [
        "#  R datasets are available online here: https://vincentarelbundock.github.io/Rdatasets/\n",
        "# for some reason this dataset didn't work correctly\n",
        "# ld = sm.datasets.get_rdataset(\"ldeaths\").data\n",
        "# https://vincentarelbundock.github.io/Rdatasets/csv/datasets/ldeaths.csv\n",
        "import pandas as pd\n",
        "\n",
        "ld = pd.read_csv(\"https://vincentarelbundock.github.io/Rdatasets/csv/datasets/ldeaths.csv\")\n",
        "ld.info()"
      ],
      "metadata": {
        "id": "lsVyNYvUPQOY"
      },
      "execution_count": null,
      "outputs": []
    },
    {
      "cell_type": "code",
      "source": [
        "# in R ldeaths is a times series object, in python we have imported it as a\n",
        "# pandas data frame ... however when we inspect it we see:\n",
        "ld"
      ],
      "metadata": {
        "id": "dCPuZld8P2MN"
      },
      "execution_count": null,
      "outputs": []
    },
    {
      "cell_type": "code",
      "source": [
        "# it starts in a longer format, with less than useful column labels and values\n",
        "# lets start by getting the names of the columns\n",
        "ld.columns"
      ],
      "metadata": {
        "id": "DmH_-S1nSOKG"
      },
      "execution_count": null,
      "outputs": []
    },
    {
      "cell_type": "code",
      "source": [
        "# now we can drop the `rownames` column\n",
        "ld.drop(columns='rownames', inplace=True)\n",
        "ld"
      ],
      "metadata": {
        "id": "6dgaY8CETXuu"
      },
      "execution_count": null,
      "outputs": []
    },
    {
      "cell_type": "code",
      "source": [
        "# lets split time into year and month\n",
        "ld['year'] = ld['time'].apply(lambda x: int(x))\n",
        "ld\n"
      ],
      "metadata": {
        "id": "i6xrV2eiX8g1"
      },
      "execution_count": null,
      "outputs": []
    },
    {
      "cell_type": "code",
      "source": [
        "# in python we can get names of the month as well, from calendar\n",
        "from calendar import month_abbr\n",
        "# 0 is empty in this list, so we slice from 1 to 13 to get 12 months worth\n",
        "month_abbr[1:13]"
      ],
      "metadata": {
        "id": "hp5LFQcRZiPD"
      },
      "execution_count": null,
      "outputs": []
    },
    {
      "cell_type": "code",
      "source": [
        "# in python we can multiply lists to repeat them, since we have 6 years we need\n",
        "ld['month']=6*month_abbr[1:13]\n",
        "ld"
      ],
      "metadata": {
        "id": "zdbH97fhbvqL"
      },
      "execution_count": null,
      "outputs": []
    },
    {
      "cell_type": "code",
      "source": [
        "# next we rename the `value` column to `deaths`\n",
        "ld.rename(columns={'value': 'deaths'}, inplace=True)\n",
        "ld"
      ],
      "metadata": {
        "id": "shHknXTuTxVE"
      },
      "execution_count": null,
      "outputs": []
    },
    {
      "cell_type": "code",
      "source": [
        "# and drop the time column\n",
        "ld.drop(columns='time', inplace=True)\n",
        "ld"
      ],
      "metadata": {
        "id": "DtuJ3VpzcLQs"
      },
      "execution_count": null,
      "outputs": []
    },
    {
      "cell_type": "code",
      "source": [
        "# # now let's reindex on year and month\n",
        "# ld_i=ld.set_index(['year','month'], inplace=False)\n",
        "# ld_i"
      ],
      "metadata": {
        "id": "ZKYO8ervWn1T"
      },
      "execution_count": null,
      "outputs": []
    },
    {
      "cell_type": "code",
      "source": [
        "# now that we have our long format, we can go to wide format like so\n",
        "ld_wide = ld.pivot(index='year', columns='month', values='deaths')\n",
        "ld_wide"
      ],
      "metadata": {
        "id": "EiCFKAREXSDV"
      },
      "execution_count": null,
      "outputs": []
    },
    {
      "cell_type": "code",
      "source": [
        "# unstack sorted our columns alphabetically! let's fix that\n",
        "# we can sort our columns using a list\n",
        "month_list = month_abbr[1:13]\n",
        "ld_wider = ld_wide[month_list]\n",
        "ld_wider"
      ],
      "metadata": {
        "id": "wXUhMkJuhJqK"
      },
      "execution_count": null,
      "outputs": []
    },
    {
      "cell_type": "code",
      "source": [
        "# we can use `stack` to go from wide to long\n",
        "ld_stacked = ld_wider.stack()\n",
        "ld_stacked"
      ],
      "metadata": {
        "id": "sDbspJeLlezJ"
      },
      "execution_count": null,
      "outputs": []
    },
    {
      "cell_type": "code",
      "source": [
        "# and `unstack` to go back\n",
        "ld_unstacked = ld_stacked.unstack()\n",
        "ld_unstacked"
      ],
      "metadata": {
        "id": "Js6xboc-moWo"
      },
      "execution_count": null,
      "outputs": []
    },
    {
      "cell_type": "markdown",
      "source": [
        "## Putting it together"
      ],
      "metadata": {
        "id": "2zfsQ0daobOY"
      }
    },
    {
      "cell_type": "code",
      "source": [
        "# Annual total and average deaths:\n",
        "ld.groupby('year').agg(Total_Annual_Deaths=('deaths','sum'),\n",
        "                       Avg_Monthly_Deaths=('deaths','mean'),)"
      ],
      "metadata": {
        "id": "9MMNxdHEnJtK"
      },
      "execution_count": null,
      "outputs": []
    },
    {
      "cell_type": "code",
      "source": [
        "# Monthly average deaths:\n",
        "ld.groupby('month').agg(Avg_Deaths_By_Month=('deaths','mean'),)"
      ],
      "metadata": {
        "id": "vXrlMsZbn8S4"
      },
      "execution_count": null,
      "outputs": []
    },
    {
      "cell_type": "markdown",
      "source": [
        "## Checking my handwritten sums from the lecture"
      ],
      "metadata": {
        "id": "G5DVL1uAosj8"
      }
    },
    {
      "cell_type": "code",
      "source": [
        "# create lists from the observations\n",
        "age = [39, 47, 45, 47, 65, 46, 67, 42]\n",
        "bp = [144, 220, 138, 145, 162, 142, 170, 124]"
      ],
      "metadata": {
        "id": "HHlrqcIhopVj"
      },
      "execution_count": null,
      "outputs": []
    },
    {
      "cell_type": "code",
      "source": [
        "# Create a dictionary with lists as values\n",
        "data = {'age': age, 'bp': bp}\n",
        "data"
      ],
      "metadata": {
        "id": "OFHecLbZo8nk"
      },
      "execution_count": null,
      "outputs": []
    },
    {
      "cell_type": "code",
      "source": [
        "# Create a DataFrame from the dictionary\n",
        "df = pd.DataFrame(data)\n",
        "df"
      ],
      "metadata": {
        "id": "YZxgq-ODo_iX"
      },
      "execution_count": null,
      "outputs": []
    },
    {
      "cell_type": "code",
      "source": [
        "# check my calculations\n",
        "df.describe()"
      ],
      "metadata": {
        "id": "U0n5LUa_pv11"
      },
      "execution_count": null,
      "outputs": []
    },
    {
      "cell_type": "code",
      "source": [],
      "metadata": {
        "id": "KXkac5DAp17L"
      },
      "execution_count": null,
      "outputs": []
    }
  ]
}